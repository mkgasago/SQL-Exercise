{
 "cells": [
  {
   "cell_type": "markdown",
   "id": "bf17eebd",
   "metadata": {},
   "source": [
    "<div align=\"right\" style=\" font-size: 80%; text-align: center; margin: 0 auto\">\n",
    "<img\n",
    " src=\"https://raw.githubusercontent.com/Explore-AI/Pictures/master/alx-courses/aice/assets/Content_page_banner_blue_dots.png\"\n",
    " alt=\"ALX Content Header\"\n",
    " class=\"full-width-image\"\n",
    "/>\n",
    "</div>"
   ]
  },
  {
   "cell_type": "markdown",
   "id": "592fa7cb",
   "metadata": {},
   "source": [
    "# **Regional Showdown: 2014 Business Performance Battle**\n",
    "\n",
    "## **Background**\n",
    "\n",
    "Superstore HQ's executive leadership is preparing for a strategic review of regional performance. As the company approaches the end of the fiscal year, key decisions must be made about future investments, regional support, and operational efficiency. However, the current performance data is fragmented across spreadsheets, and informal reporting has led to inconsistent interpretations of success across regions.\n",
    "To move forward with clarity and confidence, leadership requires an evidence-based performance report one that consolidates reliable metrics and provides objective comparisons between regions.\n"
   ]
  },
  {
   "cell_type": "markdown",
   "id": "922234dc",
   "metadata": {},
   "source": [
    "\n",
    "\n",
    "\n",
    "![Regional Managers Planning](https://raw.githubusercontent.com/DesmondMokhali/sql_assessment/main/manager_meeting.jpg)\n",
    "\n",
    "\n",
    "## **Problem**\n",
    "\n",
    "There is currently no standardized or centralized method to assess and compare regional performance. Without clear insights, the leadership team cannot make informed decisions about where to allocate resources or identify top-performing regions.\n",
    "As a **Data Analyst**, you have been formally tasked with producing a detailed analysis that addresses this gap. You must extract meaningful trends from the raw data, identify performance indicators, and deliver a structured set of insights. Your analysis will be the foundation for critical decision-making at the executive level.\n",
    "\n",
    "## **Learning objectives**\n",
    "This exercise is designed to simulate the responsibilities of a data analyst working in a business environment where data integrity, strategic reporting, and analytical precision are essential.\n",
    "\n",
    "You will learn how to:\n",
    "\n",
    "- Write production-ready SQL to answer real business questions.\n",
    "- Query and join tables effectively in notebooks.\n",
    "- Use aggregations and numeric functions to compute KPIs.\n",
    "- Build region-level summaries based on sales, profit, order volumes, and other performance indicators,\n",
    "- Translate raw transactional data into actionable insights for stakeholders.\n",
    "\n",
    "By the end of this project, you will have demonstrated how SQL can be used as a powerful tool to support strategic business decisions."
   ]
  },
  {
   "cell_type": "markdown",
   "id": "06df0c01",
   "metadata": {},
   "source": [
    "### 1. Install the required libraries (if not yet installed)\n",
    "In a Jupyter notebook cell, run:"
   ]
  },
  {
   "cell_type": "code",
   "execution_count": 1,
   "id": "6374cae0",
   "metadata": {},
   "outputs": [],
   "source": [
    "# !pip install pandas sqlalchemy ipython-sql"
   ]
  },
  {
   "cell_type": "markdown",
   "id": "538c8b25",
   "metadata": {},
   "source": [
    "### 2. Load CSV and Set Up SQLite Database for SQL Queries in Jupyter"
   ]
  },
  {
   "cell_type": "code",
   "execution_count": 2,
   "id": "9d4cef7b",
   "metadata": {},
   "outputs": [],
   "source": [
    "import pandas as pd\n",
    "from sqlalchemy import create_engine\n",
    "\n",
    "# Step 1: Load CSV\n",
    "df = pd.read_csv(\"superstore.csv\")  # Make sure this file is in your folder\n",
    "\n",
    "# Step 2: Save to file-based SQLite DB\n",
    "engine = create_engine(\"sqlite:///superstore.db\")\n",
    "df.to_sql(\"superstore\", con=engine, index=False, if_exists=\"replace\")\n",
    "\n",
    "# Step 3: Use SQL magic\n",
    "%load_ext sql\n",
    "%sql sqlite:///superstore.db"
   ]
  },
  {
   "cell_type": "markdown",
   "id": "d40b98c9",
   "metadata": {},
   "source": [
    "### 3. Review the first 5 rows"
   ]
  },
  {
   "cell_type": "code",
   "execution_count": 3,
   "id": "5f3006ff",
   "metadata": {},
   "outputs": [
    {
     "name": "stdout",
     "output_type": "stream",
     "text": [
      " * sqlite:///superstore.db\n",
      "Done.\n"
     ]
    },
    {
     "data": {
      "text/html": [
       "<table>\n",
       "    <thead>\n",
       "        <tr>\n",
       "            <th>Category</th>\n",
       "            <th>City</th>\n",
       "            <th>Country</th>\n",
       "            <th>Customer.ID</th>\n",
       "            <th>Customer.Name</th>\n",
       "            <th>Discount</th>\n",
       "            <th>Market</th>\n",
       "            <th>记录数</th>\n",
       "            <th>Order.Date</th>\n",
       "            <th>Order.ID</th>\n",
       "            <th>Order.Priority</th>\n",
       "            <th>Product.ID</th>\n",
       "            <th>Product.Name</th>\n",
       "            <th>Profit</th>\n",
       "            <th>Quantity</th>\n",
       "            <th>Region</th>\n",
       "            <th>Row.ID</th>\n",
       "            <th>Sales</th>\n",
       "            <th>Segment</th>\n",
       "            <th>Ship.Date</th>\n",
       "            <th>Ship.Mode</th>\n",
       "            <th>Shipping.Cost</th>\n",
       "            <th>State</th>\n",
       "            <th>Sub.Category</th>\n",
       "            <th>Year</th>\n",
       "            <th>Market2</th>\n",
       "            <th>weeknum</th>\n",
       "        </tr>\n",
       "    </thead>\n",
       "    <tbody>\n",
       "        <tr>\n",
       "            <td>Office Supplies</td>\n",
       "            <td>Los Angeles</td>\n",
       "            <td>United States</td>\n",
       "            <td>LS-172304</td>\n",
       "            <td>Lycoris Saunders</td>\n",
       "            <td>0.0</td>\n",
       "            <td>US</td>\n",
       "            <td>1</td>\n",
       "            <td>2011-01-07 00:00:00.000</td>\n",
       "            <td>CA-2011-130813</td>\n",
       "            <td>High</td>\n",
       "            <td>OFF-PA-10002005</td>\n",
       "            <td>Xerox 225</td>\n",
       "            <td>9.3312</td>\n",
       "            <td>3</td>\n",
       "            <td>West</td>\n",
       "            <td>36624</td>\n",
       "            <td>19</td>\n",
       "            <td>Consumer</td>\n",
       "            <td>2011-01-09 00:00:00.000</td>\n",
       "            <td>Second Class</td>\n",
       "            <td>4.37</td>\n",
       "            <td>California</td>\n",
       "            <td>Paper</td>\n",
       "            <td>2011</td>\n",
       "            <td>North America</td>\n",
       "            <td>2</td>\n",
       "        </tr>\n",
       "        <tr>\n",
       "            <td>Office Supplies</td>\n",
       "            <td>Los Angeles</td>\n",
       "            <td>United States</td>\n",
       "            <td>MV-174854</td>\n",
       "            <td>Mark Van Huff</td>\n",
       "            <td>0.0</td>\n",
       "            <td>US</td>\n",
       "            <td>1</td>\n",
       "            <td>2011-01-21 00:00:00.000</td>\n",
       "            <td>CA-2011-148614</td>\n",
       "            <td>Medium</td>\n",
       "            <td>OFF-PA-10002893</td>\n",
       "            <td>Wirebound Service Call Books, 5 1/2&quot; x 4&quot;</td>\n",
       "            <td>9.2928</td>\n",
       "            <td>2</td>\n",
       "            <td>West</td>\n",
       "            <td>37033</td>\n",
       "            <td>19</td>\n",
       "            <td>Consumer</td>\n",
       "            <td>2011-01-26 00:00:00.000</td>\n",
       "            <td>Standard Class</td>\n",
       "            <td>0.94</td>\n",
       "            <td>California</td>\n",
       "            <td>Paper</td>\n",
       "            <td>2011</td>\n",
       "            <td>North America</td>\n",
       "            <td>4</td>\n",
       "        </tr>\n",
       "        <tr>\n",
       "            <td>Office Supplies</td>\n",
       "            <td>Los Angeles</td>\n",
       "            <td>United States</td>\n",
       "            <td>CS-121304</td>\n",
       "            <td>Chad Sievert</td>\n",
       "            <td>0.0</td>\n",
       "            <td>US</td>\n",
       "            <td>1</td>\n",
       "            <td>2011-08-05 00:00:00.000</td>\n",
       "            <td>CA-2011-118962</td>\n",
       "            <td>Medium</td>\n",
       "            <td>OFF-PA-10000659</td>\n",
       "            <td>Adams Phone Message Book, Professional, 400 Message Capacity, 5 3/6” x 11”</td>\n",
       "            <td>9.8418</td>\n",
       "            <td>3</td>\n",
       "            <td>West</td>\n",
       "            <td>31468</td>\n",
       "            <td>21</td>\n",
       "            <td>Consumer</td>\n",
       "            <td>2011-08-09 00:00:00.000</td>\n",
       "            <td>Standard Class</td>\n",
       "            <td>1.81</td>\n",
       "            <td>California</td>\n",
       "            <td>Paper</td>\n",
       "            <td>2011</td>\n",
       "            <td>North America</td>\n",
       "            <td>32</td>\n",
       "        </tr>\n",
       "        <tr>\n",
       "            <td>Office Supplies</td>\n",
       "            <td>Los Angeles</td>\n",
       "            <td>United States</td>\n",
       "            <td>CS-121304</td>\n",
       "            <td>Chad Sievert</td>\n",
       "            <td>0.0</td>\n",
       "            <td>US</td>\n",
       "            <td>1</td>\n",
       "            <td>2011-08-05 00:00:00.000</td>\n",
       "            <td>CA-2011-118962</td>\n",
       "            <td>Medium</td>\n",
       "            <td>OFF-PA-10001144</td>\n",
       "            <td>Xerox 1913</td>\n",
       "            <td>53.2608</td>\n",
       "            <td>2</td>\n",
       "            <td>West</td>\n",
       "            <td>31469</td>\n",
       "            <td>111</td>\n",
       "            <td>Consumer</td>\n",
       "            <td>2011-08-09 00:00:00.000</td>\n",
       "            <td>Standard Class</td>\n",
       "            <td>4.59</td>\n",
       "            <td>California</td>\n",
       "            <td>Paper</td>\n",
       "            <td>2011</td>\n",
       "            <td>North America</td>\n",
       "            <td>32</td>\n",
       "        </tr>\n",
       "        <tr>\n",
       "            <td>Office Supplies</td>\n",
       "            <td>Los Angeles</td>\n",
       "            <td>United States</td>\n",
       "            <td>AP-109154</td>\n",
       "            <td>Arthur Prichep</td>\n",
       "            <td>0.0</td>\n",
       "            <td>US</td>\n",
       "            <td>1</td>\n",
       "            <td>2011-09-29 00:00:00.000</td>\n",
       "            <td>CA-2011-146969</td>\n",
       "            <td>High</td>\n",
       "            <td>OFF-PA-10002105</td>\n",
       "            <td>Xerox 223</td>\n",
       "            <td>3.1104</td>\n",
       "            <td>1</td>\n",
       "            <td>West</td>\n",
       "            <td>32440</td>\n",
       "            <td>6</td>\n",
       "            <td>Consumer</td>\n",
       "            <td>2011-10-03 00:00:00.000</td>\n",
       "            <td>Standard Class</td>\n",
       "            <td>1.32</td>\n",
       "            <td>California</td>\n",
       "            <td>Paper</td>\n",
       "            <td>2011</td>\n",
       "            <td>North America</td>\n",
       "            <td>40</td>\n",
       "        </tr>\n",
       "    </tbody>\n",
       "</table>"
      ],
      "text/plain": [
       "[('Office Supplies', 'Los Angeles', 'United States', 'LS-172304', 'Lycoris Saunders', 0.0, 'US', 1, '2011-01-07 00:00:00.000', 'CA-2011-130813', 'High', 'OFF-PA-10002005', 'Xerox 225', 9.3312, 3, 'West', 36624, 19, 'Consumer', '2011-01-09 00:00:00.000', 'Second Class', 4.37, 'California', 'Paper', 2011, 'North America', 2),\n",
       " ('Office Supplies', 'Los Angeles', 'United States', 'MV-174854', 'Mark Van Huff', 0.0, 'US', 1, '2011-01-21 00:00:00.000', 'CA-2011-148614', 'Medium', 'OFF-PA-10002893', 'Wirebound Service Call Books, 5 1/2\" x 4\"', 9.2928, 2, 'West', 37033, 19, 'Consumer', '2011-01-26 00:00:00.000', 'Standard Class', 0.94, 'California', 'Paper', 2011, 'North America', 4),\n",
       " ('Office Supplies', 'Los Angeles', 'United States', 'CS-121304', 'Chad Sievert', 0.0, 'US', 1, '2011-08-05 00:00:00.000', 'CA-2011-118962', 'Medium', 'OFF-PA-10000659', 'Adams Phone Message Book, Professional, 400 Message Capacity, 5 3/6” x 11”', 9.8418, 3, 'West', 31468, 21, 'Consumer', '2011-08-09 00:00:00.000', 'Standard Class', 1.81, 'California', 'Paper', 2011, 'North America', 32),\n",
       " ('Office Supplies', 'Los Angeles', 'United States', 'CS-121304', 'Chad Sievert', 0.0, 'US', 1, '2011-08-05 00:00:00.000', 'CA-2011-118962', 'Medium', 'OFF-PA-10001144', 'Xerox 1913', 53.2608, 2, 'West', 31469, 111, 'Consumer', '2011-08-09 00:00:00.000', 'Standard Class', 4.59, 'California', 'Paper', 2011, 'North America', 32),\n",
       " ('Office Supplies', 'Los Angeles', 'United States', 'AP-109154', 'Arthur Prichep', 0.0, 'US', 1, '2011-09-29 00:00:00.000', 'CA-2011-146969', 'High', 'OFF-PA-10002105', 'Xerox 223', 3.1104, 1, 'West', 32440, 6, 'Consumer', '2011-10-03 00:00:00.000', 'Standard Class', 1.32, 'California', 'Paper', 2011, 'North America', 40)]"
      ]
     },
     "execution_count": 3,
     "metadata": {},
     "output_type": "execute_result"
    }
   ],
   "source": [
    "%%sql\n",
    "SELECT * FROM superstore LIMIT 5;"
   ]
  },
  {
   "cell_type": "markdown",
   "id": "a3116bab",
   "metadata": {},
   "source": [
    "# Integrated project notebook"
   ]
  },
  {
   "cell_type": "markdown",
   "id": "677e0854",
   "metadata": {},
   "source": [
    "## 1. SQL in Production "
   ]
  },
  {
   "cell_type": "markdown",
   "id": "26af890c",
   "metadata": {},
   "source": [
    "### **Task 1.** \n",
    "### Which region generated the highest total sales in year 2014?"
   ]
  },
  {
   "cell_type": "code",
   "execution_count": null,
   "id": "af6dbf0b",
   "metadata": {},
   "outputs": [],
   "source": [
    "%%sql\n",
    "\n",
    "# Add your code here\n"
   ]
  },
  {
   "cell_type": "markdown",
   "id": "3259ef42",
   "metadata": {},
   "source": [
    "### **Task 2.**\n",
    "\n",
    "### What is the average order quantity by region for the past quarter (Q4 2014)?"
   ]
  },
  {
   "cell_type": "code",
   "execution_count": null,
   "id": "af117a57",
   "metadata": {},
   "outputs": [],
   "source": [
    "%%sql\n",
    "\n",
    "# Add your code here\n"
   ]
  },
  {
   "cell_type": "markdown",
   "id": "9ad3ffe6",
   "metadata": {},
   "source": [
    "<!-- Note -->\n",
    "<div style=\"background-color:#f5f5f5; border-left:5px solid rgb(180, 180, 180); padding:10px; border-radius:4px;\">\n",
    "  <strong>Hold on...</strong> Sales alone don’t tell the full story. What if a region makes fewer sales but has better margins?\n",
    "</div>"
   ]
  },
  {
   "cell_type": "markdown",
   "id": "2d230d14",
   "metadata": {
    "tags": []
   },
   "source": [
    "### **Task 3.**\n",
    "### If one region consistently has lower sales but higher profit margins, how might that affect decisions about future investments in that region?"
   ]
  },
  {
   "cell_type": "markdown",
   "id": "bf6b1235",
   "metadata": {},
   "source": []
  },
  {
   "cell_type": "markdown",
   "id": "1d59d107",
   "metadata": {},
   "source": [
    "## 2. Querying in Notebooks"
   ]
  },
  {
   "cell_type": "markdown",
   "id": "ab0c1bc5",
   "metadata": {},
   "source": [
    "### **Task 4.** \n",
    "### List the top 3 Region by number of orders placed.\n"
   ]
  },
  {
   "cell_type": "code",
   "execution_count": null,
   "id": "1ae81f1f",
   "metadata": {},
   "outputs": [],
   "source": [
    "%%sql\n",
    "\n",
    "# Add your code here"
   ]
  },
  {
   "cell_type": "markdown",
   "id": "5a0b7683",
   "metadata": {
    "tags": []
   },
   "source": [
    "\n",
    "### **Task 5.**\n",
    "### Which product category have the least contribution to overall profit?"
   ]
  },
  {
   "cell_type": "code",
   "execution_count": null,
   "id": "860600a1",
   "metadata": {},
   "outputs": [],
   "source": [
    "%%sql\n",
    "\n",
    "# Add your code here\n"
   ]
  },
  {
   "cell_type": "markdown",
   "id": "d431192e",
   "metadata": {},
   "source": [
    "<!-- Note -->\n",
    "<div style=\"background-color:#f5f5f5; border-left:5px solid rgb(180, 180, 180); padding:10px; border-radius:4px;\">\n",
    "  <strong>Hmm... </strong> Some categories might be profitable, but are those profits sustainable?  \n",
    "What if many customers are returning those products due to dissatisfaction or mismatch?  \n",
    "Even if return data isn't available, it's important to consider how returns could impact long-term profitability and reputation.\n",
    "</div>"
   ]
  },
  {
   "cell_type": "markdown",
   "id": "cec9adb1",
   "metadata": {},
   "source": [
    "### **Task 6.** \n",
    "### If you observed a high number of returns in a specific product category, what factors would you investigate, and what actions would you recommend as a regional manager?"
   ]
  },
  {
   "cell_type": "markdown",
   "id": "e94dd973",
   "metadata": {},
   "source": []
  },
  {
   "cell_type": "markdown",
   "id": "a9ce90ac",
   "metadata": {},
   "source": [
    "## 3. Numeric Functions & Aggregations"
   ]
  },
  {
   "cell_type": "markdown",
   "id": "59f8163e",
   "metadata": {},
   "source": [
    "### **Task 7.**\n",
    "### Calculate the average delivery delay per region (Order Date vs Ship Date)."
   ]
  },
  {
   "cell_type": "code",
   "execution_count": null,
   "id": "6d4c8583",
   "metadata": {},
   "outputs": [],
   "source": [
    "%%sql\n",
    "\n",
    "# Add your code here\n"
   ]
  },
  {
   "cell_type": "markdown",
   "id": "a3240955",
   "metadata": {},
   "source": [
    "### **Task 8.** \n",
    "### Which customer segment yields the highest average order value?"
   ]
  },
  {
   "cell_type": "code",
   "execution_count": null,
   "id": "6f490765",
   "metadata": {},
   "outputs": [],
   "source": [
    "%%sql\n",
    "\n",
    "# Add your code here"
   ]
  },
  {
   "cell_type": "markdown",
   "id": "cd2d0db3",
   "metadata": {},
   "source": [
    "<!-- Note -->\n",
    "<div style=\"background-color:#f5f5f5; border-left:5px solid rgb(180, 180, 180); padding:10px; border-radius:4px;\">\n",
    "  <strong>Efficiency and value matter.</strong> While understanding delivery delays helps reveal operational efficiency by region, analyzing customer segments shows where the most valuable orders come from.  \n",
    "  Even if two regions achieve similar sales, differences in delivery performance and customer mix can lead to very different costs and profitability.\n",
    "</div>\n"
   ]
  },
  {
   "cell_type": "markdown",
   "id": "94f428a0",
   "metadata": {},
   "source": [
    "### **Task 9.**\n",
    "### Two regions have similar total sales, but one region has significantly higher shipping costs. What factors could explain this difference, and how might you address it as a regional manager?"
   ]
  },
  {
   "cell_type": "markdown",
   "id": "ad49bd2d",
   "metadata": {},
   "source": []
  },
  {
   "cell_type": "markdown",
   "id": "730a472d",
   "metadata": {},
   "source": [
    "## 4. Window Functions"
   ]
  },
  {
   "cell_type": "markdown",
   "id": "9eb58eae",
   "metadata": {},
   "source": [
    "### **Task 10.**\n",
    "### Rank customers within each region by total sales and find the top customer per region."
   ]
  },
  {
   "cell_type": "code",
   "execution_count": null,
   "id": "84d894e7",
   "metadata": {},
   "outputs": [],
   "source": [
    "%%sql\n",
    "\n",
    "# Add your code here"
   ]
  },
  {
   "cell_type": "markdown",
   "id": "4a15a7b2",
   "metadata": {},
   "source": [
    "### **Task 11.**\n",
    "### Show the year-over-year sales growth per region."
   ]
  },
  {
   "cell_type": "code",
   "execution_count": null,
   "id": "5999c23f",
   "metadata": {},
   "outputs": [],
   "source": [
    "%%sql\n",
    "WITH YearlySales AS (\n",
    "  SELECT \n",
    "    Region,\n",
    "    strftime('%Y', \"Order.Date\") AS Year,\n",
    "    SUM(Sales) AS Total_Sales\n",
    "  # Add code here\n",
    ")\n",
    "\n",
    "SELECT \n",
    "  cur.Region,\n",
    "  cur.Year AS Current_Year,\n",
    "  cur.Total_Sales AS Current_Year_Sales,\n",
    "  prev.Total_Sales AS Previous_Year_Sales,\n",
    "  ROUND(\n",
    "    CASE \n",
    "      WHEN prev.Total_Sales IS NULL OR prev.Total_Sales = 0 THEN NULL\n",
    "      ELSE ((cur.Total_Sales - prev.Total_Sales) * 100.0 / prev.Total_Sales)\n",
    "    END, 2\n",
    "  ) AS YoY_Growth_Percent\n",
    "# Add your code here\n",
    "  ON cur.Region = prev.Region\n",
    "  AND CAST(cur.Year AS INTEGER) = CAST(prev.Year AS INTEGER) + 1\n",
    "ORDER BY cur.Region, cur.Year;\n",
    "\n"
   ]
  },
  {
   "cell_type": "markdown",
   "id": "0f8dc43a",
   "metadata": {},
   "source": [
    "<!-- Note -->\n",
    "<div style=\"background-color:#f5f5f5; border-left:5px solid rgb(180, 180, 180); padding:10px; border-radius:4px;\">\n",
    "  <strong>Trends tell a story.</strong> Ranking customers by sales highlights key contributors in each region, while year-over-year sales growth reveals how regions perform over time.  \n",
    "  Sudden changes, like a sharp growth in Q3 followed by a decline in Q4, could signal potential issues affecting future performance.\n",
    "</div>\n"
   ]
  },
  {
   "cell_type": "markdown",
   "id": "f1c2890f",
   "metadata": {},
   "source": [
    "### **Task 12.**\n",
    "### If a region experienced strong sales growth in Q3 but saw a decline in Q4, how should this pattern affect their ranking on the final leaderboard? What factors would you consider in your evaluation?"
   ]
  },
  {
   "cell_type": "markdown",
   "id": "bf1417ad",
   "metadata": {},
   "source": []
  },
  {
   "cell_type": "markdown",
   "id": "f37f1fbc",
   "metadata": {},
   "source": [
    "<!-- Note -->\n",
    "<div style=\"background-color:#f5f5f5; border-left:5px solid rgb(180, 180, 180); padding:10px; border-radius:4px;\">\n",
    "  <strong>Loyalty check! </strong> Let's find out which region's customers keep coming back for more.\n",
    "Repeat business might just be the secret weapon of the winning region.\n",
    "</div>"
   ]
  },
  {
   "cell_type": "markdown",
   "id": "e400baad",
   "metadata": {},
   "source": [
    "### **Task 13.** \n",
    "### Which region has the highest number of repeat customers (customers who ordered more than once)"
   ]
  },
  {
   "cell_type": "code",
   "execution_count": null,
   "id": "711bbacd",
   "metadata": {},
   "outputs": [],
   "source": [
    "%%sql\n",
    "\n",
    " \n",
    "# Add your code here\n"
   ]
  },
  {
   "cell_type": "markdown",
   "id": "d1fc805f",
   "metadata": {},
   "source": [
    "<!-- Note -->\n",
    "<div style=\"background-color:#f5f5f5; border-left:5px solid rgb(180, 180, 180); padding:10px; border-radius:4px;\">\n",
    "  <strong>And now… the moment of truth.</strong> You’ve uncovered key insights by analyzing repeat customers and other metrics.  \n",
    "  It’s time to combine Sales, Profit, Delivery, and Loyalty into one overall score for each region.  \n",
    "  Who will be crowned the Ultimate Regional Manager of the year?\n",
    "</div>\n"
   ]
  },
  {
   "cell_type": "markdown",
   "id": "d313dac8",
   "metadata": {},
   "source": [
    "### **Task 14**"
   ]
  },
  {
   "cell_type": "markdown",
   "id": "c1813bcc",
   "metadata": {},
   "source": [
    "![Regional Winner Celebration](https://raw.githubusercontent.com/DesmondMokhali/sql_assessment/main/regional_winner.jpg)\n"
   ]
  },
  {
   "cell_type": "markdown",
   "id": "61428fa6",
   "metadata": {},
   "source": [
    "### Which regions rank highest overall in 2014 based on total sales, profit, quantity, delivery delay, and shipping cost? "
   ]
  },
  {
   "cell_type": "code",
   "execution_count": null,
   "id": "3fa3bb9b",
   "metadata": {},
   "outputs": [],
   "source": [
    "%%sql\n",
    "WITH SalesProfit AS (\n",
    "    SELECT \n",
    "        Region,\n",
    "        ROUND(SUM(Sales), 2) AS Total_Sales,\n",
    "        ROUND(SUM(Profit), 2) AS Total_Profit,\n",
    "        ROUND(AVG(Quantity), 2) AS Avg_Quantity,\n",
    "        ROUND(AVG(julianday(\"Ship.Date\") - julianday(\"Order.Date\")), 2) AS Avg_Delivery_Delay,\n",
    "        ROUND(SUM(\"Shipping.Cost\"), 2) AS Total_Shipping_Cost\n",
    "    # Add your code here\n",
    "),\n",
    "RankedRegions AS (\n",
    "    SELECT *,\n",
    "        RANK() OVER (ORDER BY Total_Sales DESC) AS Sales_Rank,\n",
    "        RANK() OVER (ORDER BY Total_Profit DESC) AS Profit_Rank,\n",
    "        RANK() OVER (ORDER BY Avg_Delivery_Delay ASC) AS Delivery_Rank,\n",
    "        RANK() OVER (ORDER BY Total_Shipping_Cost ASC) AS Shipping_Rank\n",
    "    FROM SalesProfit\n",
    "),\n",
    "Final AS (\n",
    "    SELECT *,\n",
    "        (Sales_Rank + Profit_Rank + Delivery_Rank + Shipping_Rank) AS Overall_Rank_Score\n",
    "    FROM RankedRegions\n",
    ")\n",
    "# Add your code here\n",
    ";\n"
   ]
  },
  {
   "cell_type": "markdown",
   "id": "0595871a",
   "metadata": {},
   "source": [
    "### **Task 15**"
   ]
  },
  {
   "cell_type": "markdown",
   "id": "c21d7340",
   "metadata": {},
   "source": [
    "In our current ranking, we treated all performance factors equally:  \n",
    "- **Total Sales**  \n",
    "- **Total Profit**  \n",
    "- **Average Delivery Delay**  \n",
    "- **Total Shipping Cost**  \n",
    "\n",
    "Each rank was summed to create an overall score, where a **lower score indicates better performance**.\n",
    "\n",
    "But what if we had **used a weighted scoring matrix** — assigning importance (weights) to each metric?"
   ]
  },
  {
   "cell_type": "markdown",
   "id": "2da58856",
   "metadata": {},
   "source": [
    "![Regional Manager Score Matrix](https://raw.githubusercontent.com/DesmondMokhali/sql_assessment/main/Regional_Manager_Score_Matrix.png)"
   ]
  },
  {
   "cell_type": "markdown",
   "id": "646b86c8",
   "metadata": {},
   "source": [
    "\n",
    "\n",
    "### Would the Winner Still Be the Same?"
   ]
  },
  {
   "cell_type": "markdown",
   "id": "24f417c4",
   "metadata": {},
   "source": []
  },
  {
   "cell_type": "markdown",
   "id": "80cd8974",
   "metadata": {},
   "source": [
    "\n",
    "## 🏆 Congratulations!\n",
    "\n",
    "You've worked through all critical SQL concepts in a real business scenario. Not only have you sharpened your SQL skills, but you’ve also learned how to:\n",
    "\n",
    "- Drive business decisions with data\n",
    "- Use notebook-based SQL workflows\n",
    "- Analyze performance across multiple KPIs\n"
   ]
  },
  {
   "cell_type": "markdown",
   "id": "26fd094b-0fee-46f1-a4b8-73766813c42b",
   "metadata": {
    "tags": []
   },
   "source": [
    "#  \n",
    "\n",
    "<div align=\"center\" style=\" font-size: 80%; text-align: center; margin: 0 auto\">\n",
    "<img src=\"https://raw.githubusercontent.com/Explore-AI/Pictures/refs/heads/master/ALX_banners/ALX_Navy.png\"  style=\"width:100px\"  ;/>\n",
    "</div>"
   ]
  }
 ],
 "metadata": {
  "kernelspec": {
   "display_name": "base",
   "language": "python",
   "name": "python3"
  },
  "language_info": {
   "codemirror_mode": {
    "name": "ipython",
    "version": 3
   },
   "file_extension": ".py",
   "mimetype": "text/x-python",
   "name": "python",
   "nbconvert_exporter": "python",
   "pygments_lexer": "ipython3",
   "version": "3.11.5"
  }
 },
 "nbformat": 4,
 "nbformat_minor": 5
}
