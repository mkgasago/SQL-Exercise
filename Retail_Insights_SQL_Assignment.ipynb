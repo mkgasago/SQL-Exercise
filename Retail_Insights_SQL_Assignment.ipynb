{
 "cells": [
  {
   "cell_type": "markdown",
   "id": "f3796040",
   "metadata": {},
   "source": [
    "# Assignment SQL"
   ]
  },
  {
   "cell_type": "markdown",
   "id": "915e7d8a",
   "metadata": {
    "vscode": {
     "languageId": "plaintext"
    }
   },
   "source": [
    "### Problem Statement\n",
    "\n",
    "You’ve just joined the Data Analytics & Strategy Team at Retail Insights Inc., a fast-growing global retail company headquartered in New York City. The company sells a wide variety of products, ranging from electronics and office supplies to furniture and home goods across North America, Europe, and Asia-Pacific.\n",
    "\n",
    "But lately, something’s not quite right.\n",
    "\n",
    "The executive team is concerned that sales are dropping in certain regions, and customer loyalty seems to be slipping. With a big strategy meeting coming up in two weeks, senior leadership needs insights fast.\n",
    "\n",
    "Your team has been asked to conduct a deep dive using SQL and Python notebooks to answer the following big questions:\n",
    "- What are the top 5 best-selling products in the last year?\n",
    "- Which customer segment brings the most revenue?\n",
    "- Which regions are underperforming based on total sales?\n",
    "- What is the average shipping time, and does it vary by region?\n",
    "- List customers who have placed more than 10 orders.\n",
    "- Are there shipping issues causing customer churn?\n",
    "- What product lines are driving (or dragging) revenue?\n",
    "- Are there any bottlenecks in the supply chain or fulfillment pipeline?\n",
    "\n",
    "\n",
    "\n",
    "### Your Role:\n",
    "\n",
    "You’re a Junior Data Analyst, and this is your first major project. You’ll work alongside a data scientist, a business analyst, and the head of operations.\n",
    "\n",
    "You’ve been given access to the company’s internal database system, and you’ll be using a Jupyter Notebook connected to a SQL database (either SQLite or MySQL) to explore, analyze, and visualize the data.\n"
   ]
  },
  {
   "cell_type": "markdown",
   "id": "f0d0e159",
   "metadata": {
    "vscode": {
     "languageId": "plaintext"
    }
   },
   "source": [
    "### Tools & Tech Stack\n",
    "- Database: SQLite or MySQL (preloaded)\n",
    "- Python Notebook Environment: Jupyter via Anaconda\n",
    "- SQL Libraries: ipython-sql, pymysql, sqlite3\n",
    "- Dataset: Global Superstore dataset (Orders, Customers, Products, Regions, etc.)\n"
   ]
  },
  {
   "cell_type": "markdown",
   "id": "1a7a802b",
   "metadata": {
    "vscode": {
     "languageId": "plaintext"
    }
   },
   "source": [
    "### Assignment Instructions\n",
    "\n",
    "You’ll be expected to:\n",
    "1. Complete the Jupyter Notebook\n",
    "2. Connect it to the database using SQL magic commands\n",
    "3. Run SQL queries to explore the dataset\n",
    "4. Document your process using markdown cells\n",
    "5. Draw conclusions from your findings, explaining them as if preparing a report for the executive team\n"
   ]
  },
  {
   "cell_type": "markdown",
   "id": "245beed5",
   "metadata": {
    "vscode": {
     "languageId": "plaintext"
    }
   },
   "source": [
    "### Deliverables\n",
    "1. Clean, well-documented Jupyter Notebook\n",
    "2. SQL queries with markdown explanations\n",
    "3. Final markdown section titled: “Insights for the Executive Team” – Summarize your top 3 findings\n",
    "\n"
   ]
  },
  {
   "cell_type": "code",
   "execution_count": 10,
   "id": "c98b3791",
   "metadata": {
    "vscode": {
     "languageId": "sql"
    }
   },
   "outputs": [],
   "source": [
    "import pandas as pd\n",
    "import sqlite3"
   ]
  },
  {
   "cell_type": "code",
   "execution_count": 11,
   "id": "0c89b42f",
   "metadata": {
    "vscode": {
     "languageId": "sql"
    }
   },
   "outputs": [
    {
     "data": {
      "text/html": [
       "<div>\n",
       "<style scoped>\n",
       "    .dataframe tbody tr th:only-of-type {\n",
       "        vertical-align: middle;\n",
       "    }\n",
       "\n",
       "    .dataframe tbody tr th {\n",
       "        vertical-align: top;\n",
       "    }\n",
       "\n",
       "    .dataframe thead th {\n",
       "        text-align: right;\n",
       "    }\n",
       "</style>\n",
       "<table border=\"1\" class=\"dataframe\">\n",
       "  <thead>\n",
       "    <tr style=\"text-align: right;\">\n",
       "      <th></th>\n",
       "      <th>Category</th>\n",
       "      <th>City</th>\n",
       "      <th>Country</th>\n",
       "      <th>Customer.ID</th>\n",
       "      <th>Customer.Name</th>\n",
       "      <th>Discount</th>\n",
       "      <th>Market</th>\n",
       "      <th>记录数</th>\n",
       "      <th>Order.Date</th>\n",
       "      <th>Order.ID</th>\n",
       "      <th>...</th>\n",
       "      <th>Sales</th>\n",
       "      <th>Segment</th>\n",
       "      <th>Ship.Date</th>\n",
       "      <th>Ship.Mode</th>\n",
       "      <th>Shipping.Cost</th>\n",
       "      <th>State</th>\n",
       "      <th>Sub.Category</th>\n",
       "      <th>Year</th>\n",
       "      <th>Market2</th>\n",
       "      <th>weeknum</th>\n",
       "    </tr>\n",
       "  </thead>\n",
       "  <tbody>\n",
       "    <tr>\n",
       "      <th>0</th>\n",
       "      <td>Office Supplies</td>\n",
       "      <td>Los Angeles</td>\n",
       "      <td>United States</td>\n",
       "      <td>LS-172304</td>\n",
       "      <td>Lycoris Saunders</td>\n",
       "      <td>0.0</td>\n",
       "      <td>US</td>\n",
       "      <td>1</td>\n",
       "      <td>2011-01-07 00:00:00.000</td>\n",
       "      <td>CA-2011-130813</td>\n",
       "      <td>...</td>\n",
       "      <td>19</td>\n",
       "      <td>Consumer</td>\n",
       "      <td>2011-01-09 00:00:00.000</td>\n",
       "      <td>Second Class</td>\n",
       "      <td>4.37</td>\n",
       "      <td>California</td>\n",
       "      <td>Paper</td>\n",
       "      <td>2011</td>\n",
       "      <td>North America</td>\n",
       "      <td>2</td>\n",
       "    </tr>\n",
       "    <tr>\n",
       "      <th>1</th>\n",
       "      <td>Office Supplies</td>\n",
       "      <td>Los Angeles</td>\n",
       "      <td>United States</td>\n",
       "      <td>MV-174854</td>\n",
       "      <td>Mark Van Huff</td>\n",
       "      <td>0.0</td>\n",
       "      <td>US</td>\n",
       "      <td>1</td>\n",
       "      <td>2011-01-21 00:00:00.000</td>\n",
       "      <td>CA-2011-148614</td>\n",
       "      <td>...</td>\n",
       "      <td>19</td>\n",
       "      <td>Consumer</td>\n",
       "      <td>2011-01-26 00:00:00.000</td>\n",
       "      <td>Standard Class</td>\n",
       "      <td>0.94</td>\n",
       "      <td>California</td>\n",
       "      <td>Paper</td>\n",
       "      <td>2011</td>\n",
       "      <td>North America</td>\n",
       "      <td>4</td>\n",
       "    </tr>\n",
       "    <tr>\n",
       "      <th>2</th>\n",
       "      <td>Office Supplies</td>\n",
       "      <td>Los Angeles</td>\n",
       "      <td>United States</td>\n",
       "      <td>CS-121304</td>\n",
       "      <td>Chad Sievert</td>\n",
       "      <td>0.0</td>\n",
       "      <td>US</td>\n",
       "      <td>1</td>\n",
       "      <td>2011-08-05 00:00:00.000</td>\n",
       "      <td>CA-2011-118962</td>\n",
       "      <td>...</td>\n",
       "      <td>21</td>\n",
       "      <td>Consumer</td>\n",
       "      <td>2011-08-09 00:00:00.000</td>\n",
       "      <td>Standard Class</td>\n",
       "      <td>1.81</td>\n",
       "      <td>California</td>\n",
       "      <td>Paper</td>\n",
       "      <td>2011</td>\n",
       "      <td>North America</td>\n",
       "      <td>32</td>\n",
       "    </tr>\n",
       "    <tr>\n",
       "      <th>3</th>\n",
       "      <td>Office Supplies</td>\n",
       "      <td>Los Angeles</td>\n",
       "      <td>United States</td>\n",
       "      <td>CS-121304</td>\n",
       "      <td>Chad Sievert</td>\n",
       "      <td>0.0</td>\n",
       "      <td>US</td>\n",
       "      <td>1</td>\n",
       "      <td>2011-08-05 00:00:00.000</td>\n",
       "      <td>CA-2011-118962</td>\n",
       "      <td>...</td>\n",
       "      <td>111</td>\n",
       "      <td>Consumer</td>\n",
       "      <td>2011-08-09 00:00:00.000</td>\n",
       "      <td>Standard Class</td>\n",
       "      <td>4.59</td>\n",
       "      <td>California</td>\n",
       "      <td>Paper</td>\n",
       "      <td>2011</td>\n",
       "      <td>North America</td>\n",
       "      <td>32</td>\n",
       "    </tr>\n",
       "    <tr>\n",
       "      <th>4</th>\n",
       "      <td>Office Supplies</td>\n",
       "      <td>Los Angeles</td>\n",
       "      <td>United States</td>\n",
       "      <td>AP-109154</td>\n",
       "      <td>Arthur Prichep</td>\n",
       "      <td>0.0</td>\n",
       "      <td>US</td>\n",
       "      <td>1</td>\n",
       "      <td>2011-09-29 00:00:00.000</td>\n",
       "      <td>CA-2011-146969</td>\n",
       "      <td>...</td>\n",
       "      <td>6</td>\n",
       "      <td>Consumer</td>\n",
       "      <td>2011-10-03 00:00:00.000</td>\n",
       "      <td>Standard Class</td>\n",
       "      <td>1.32</td>\n",
       "      <td>California</td>\n",
       "      <td>Paper</td>\n",
       "      <td>2011</td>\n",
       "      <td>North America</td>\n",
       "      <td>40</td>\n",
       "    </tr>\n",
       "  </tbody>\n",
       "</table>\n",
       "<p>5 rows × 27 columns</p>\n",
       "</div>"
      ],
      "text/plain": [
       "          Category         City        Country Customer.ID     Customer.Name  \\\n",
       "0  Office Supplies  Los Angeles  United States   LS-172304  Lycoris Saunders   \n",
       "1  Office Supplies  Los Angeles  United States   MV-174854     Mark Van Huff   \n",
       "2  Office Supplies  Los Angeles  United States   CS-121304      Chad Sievert   \n",
       "3  Office Supplies  Los Angeles  United States   CS-121304      Chad Sievert   \n",
       "4  Office Supplies  Los Angeles  United States   AP-109154    Arthur Prichep   \n",
       "\n",
       "   Discount Market  记录数               Order.Date        Order.ID  ... Sales  \\\n",
       "0       0.0     US    1  2011-01-07 00:00:00.000  CA-2011-130813  ...    19   \n",
       "1       0.0     US    1  2011-01-21 00:00:00.000  CA-2011-148614  ...    19   \n",
       "2       0.0     US    1  2011-08-05 00:00:00.000  CA-2011-118962  ...    21   \n",
       "3       0.0     US    1  2011-08-05 00:00:00.000  CA-2011-118962  ...   111   \n",
       "4       0.0     US    1  2011-09-29 00:00:00.000  CA-2011-146969  ...     6   \n",
       "\n",
       "    Segment                Ship.Date       Ship.Mode  Shipping.Cost  \\\n",
       "0  Consumer  2011-01-09 00:00:00.000    Second Class           4.37   \n",
       "1  Consumer  2011-01-26 00:00:00.000  Standard Class           0.94   \n",
       "2  Consumer  2011-08-09 00:00:00.000  Standard Class           1.81   \n",
       "3  Consumer  2011-08-09 00:00:00.000  Standard Class           4.59   \n",
       "4  Consumer  2011-10-03 00:00:00.000  Standard Class           1.32   \n",
       "\n",
       "        State  Sub.Category  Year        Market2 weeknum  \n",
       "0  California         Paper  2011  North America       2  \n",
       "1  California         Paper  2011  North America       4  \n",
       "2  California         Paper  2011  North America      32  \n",
       "3  California         Paper  2011  North America      32  \n",
       "4  California         Paper  2011  North America      40  \n",
       "\n",
       "[5 rows x 27 columns]"
      ]
     },
     "execution_count": 11,
     "metadata": {},
     "output_type": "execute_result"
    }
   ],
   "source": [
    "df = pd.read_csv(\"superstore.csv\")\n",
    "df.head()"
   ]
  },
  {
   "cell_type": "code",
   "execution_count": 12,
   "id": "08f74903",
   "metadata": {
    "vscode": {
     "languageId": "sql"
    }
   },
   "outputs": [
    {
     "data": {
      "text/plain": [
       "51290"
      ]
     },
     "execution_count": 12,
     "metadata": {},
     "output_type": "execute_result"
    }
   ],
   "source": [
    "conn = sqlite3.connect(\":memory:\")  # or use 'superstore.db' to persist\n",
    "df.to_sql(\"superstore\", conn, index=False, if_exists=\"replace\")"
   ]
  },
  {
   "cell_type": "code",
   "execution_count": null,
   "id": "cdfffdf1",
   "metadata": {
    "vscode": {
     "languageId": "sql"
    }
   },
   "outputs": [
    {
     "name": "stdout",
     "output_type": "stream",
     "text": [
      "The sql module is not an IPython extension.\n"
     ]
    }
   ],
   "source": [
    "# Load and activate the SQL extension to allow us to execute SQL in a Jupyter notebook. \n",
    "# If you get an error here, make sure that mysql and pymysql are installed correctly. \n",
    "\n",
    "%load_ext sql"
   ]
  },
  {
   "cell_type": "code",
   "execution_count": 15,
   "id": "068e4ced",
   "metadata": {
    "vscode": {
     "languageId": "sql"
    }
   },
   "outputs": [
    {
     "name": "stdout",
     "output_type": "stream",
     "text": [
      "Collecting pymysql\n",
      "  Downloading PyMySQL-1.1.1-py3-none-any.whl.metadata (4.4 kB)\n",
      "Collecting ipython-sql\n",
      "  Downloading ipython_sql-0.5.0-py3-none-any.whl.metadata (17 kB)\n",
      "Collecting prettytable (from ipython-sql)\n",
      "  Downloading prettytable-3.16.0-py3-none-any.whl.metadata (33 kB)\n",
      "Requirement already satisfied: ipython in /Users/andisiwejafta/.pyenv/versions/3.11.5/lib/python3.11/site-packages (from ipython-sql) (9.3.0)\n",
      "Collecting sqlalchemy>=2.0 (from ipython-sql)\n",
      "  Downloading sqlalchemy-2.0.41-cp311-cp311-macosx_11_0_arm64.whl.metadata (9.6 kB)\n",
      "Collecting sqlparse (from ipython-sql)\n",
      "  Using cached sqlparse-0.5.3-py3-none-any.whl.metadata (3.9 kB)\n",
      "Requirement already satisfied: six in /Users/andisiwejafta/.pyenv/versions/3.11.5/lib/python3.11/site-packages (from ipython-sql) (1.17.0)\n",
      "Collecting ipython-genutils (from ipython-sql)\n",
      "  Downloading ipython_genutils-0.2.0-py2.py3-none-any.whl.metadata (755 bytes)\n",
      "Requirement already satisfied: typing-extensions>=4.6.0 in /Users/andisiwejafta/.pyenv/versions/3.11.5/lib/python3.11/site-packages (from sqlalchemy>=2.0->ipython-sql) (4.14.0)\n",
      "Requirement already satisfied: decorator in /Users/andisiwejafta/.pyenv/versions/3.11.5/lib/python3.11/site-packages (from ipython->ipython-sql) (5.2.1)\n",
      "Requirement already satisfied: ipython-pygments-lexers in /Users/andisiwejafta/.pyenv/versions/3.11.5/lib/python3.11/site-packages (from ipython->ipython-sql) (1.1.1)\n",
      "Requirement already satisfied: jedi>=0.16 in /Users/andisiwejafta/.pyenv/versions/3.11.5/lib/python3.11/site-packages (from ipython->ipython-sql) (0.19.2)\n",
      "Requirement already satisfied: matplotlib-inline in /Users/andisiwejafta/.pyenv/versions/3.11.5/lib/python3.11/site-packages (from ipython->ipython-sql) (0.1.7)\n",
      "Requirement already satisfied: pexpect>4.3 in /Users/andisiwejafta/.pyenv/versions/3.11.5/lib/python3.11/site-packages (from ipython->ipython-sql) (4.9.0)\n",
      "Requirement already satisfied: prompt_toolkit<3.1.0,>=3.0.41 in /Users/andisiwejafta/.pyenv/versions/3.11.5/lib/python3.11/site-packages (from ipython->ipython-sql) (3.0.51)\n",
      "Requirement already satisfied: pygments>=2.4.0 in /Users/andisiwejafta/.pyenv/versions/3.11.5/lib/python3.11/site-packages (from ipython->ipython-sql) (2.19.1)\n",
      "Requirement already satisfied: stack_data in /Users/andisiwejafta/.pyenv/versions/3.11.5/lib/python3.11/site-packages (from ipython->ipython-sql) (0.6.3)\n",
      "Requirement already satisfied: traitlets>=5.13.0 in /Users/andisiwejafta/.pyenv/versions/3.11.5/lib/python3.11/site-packages (from ipython->ipython-sql) (5.14.3)\n",
      "Requirement already satisfied: wcwidth in /Users/andisiwejafta/.pyenv/versions/3.11.5/lib/python3.11/site-packages (from prompt_toolkit<3.1.0,>=3.0.41->ipython->ipython-sql) (0.2.13)\n",
      "Requirement already satisfied: parso<0.9.0,>=0.8.4 in /Users/andisiwejafta/.pyenv/versions/3.11.5/lib/python3.11/site-packages (from jedi>=0.16->ipython->ipython-sql) (0.8.4)\n",
      "Requirement already satisfied: ptyprocess>=0.5 in /Users/andisiwejafta/.pyenv/versions/3.11.5/lib/python3.11/site-packages (from pexpect>4.3->ipython->ipython-sql) (0.7.0)\n",
      "Requirement already satisfied: executing>=1.2.0 in /Users/andisiwejafta/.pyenv/versions/3.11.5/lib/python3.11/site-packages (from stack_data->ipython->ipython-sql) (2.2.0)\n",
      "Requirement already satisfied: asttokens>=2.1.0 in /Users/andisiwejafta/.pyenv/versions/3.11.5/lib/python3.11/site-packages (from stack_data->ipython->ipython-sql) (3.0.0)\n",
      "Requirement already satisfied: pure-eval in /Users/andisiwejafta/.pyenv/versions/3.11.5/lib/python3.11/site-packages (from stack_data->ipython->ipython-sql) (0.2.3)\n",
      "Downloading PyMySQL-1.1.1-py3-none-any.whl (44 kB)\n",
      "Downloading ipython_sql-0.5.0-py3-none-any.whl (20 kB)\n",
      "Downloading sqlalchemy-2.0.41-cp311-cp311-macosx_11_0_arm64.whl (2.1 MB)\n",
      "\u001b[2K   \u001b[90m━━━━━━━━━━━━━━━━━━━━━━━━━━━━━━━━━━━━━━━━\u001b[0m \u001b[32m2.1/2.1 MB\u001b[0m \u001b[31m1.6 MB/s\u001b[0m eta \u001b[36m0:00:00\u001b[0ma \u001b[36m0:00:01\u001b[0m\n",
      "\u001b[?25hDownloading ipython_genutils-0.2.0-py2.py3-none-any.whl (26 kB)\n",
      "Downloading prettytable-3.16.0-py3-none-any.whl (33 kB)\n",
      "Using cached sqlparse-0.5.3-py3-none-any.whl (44 kB)\n",
      "Installing collected packages: ipython-genutils, sqlparse, sqlalchemy, pymysql, prettytable, ipython-sql\n",
      "\u001b[2K   \u001b[90m━━━━━━━━━━━━━━━━━━━━━━━━━━━━━━━━━━━━━━━━\u001b[0m \u001b[32m6/6\u001b[0m [ipython-sql]\u001b[0m [sqlalchemy]\n",
      "\u001b[1A\u001b[2KSuccessfully installed ipython-genutils-0.2.0 ipython-sql-0.5.0 prettytable-3.16.0 pymysql-1.1.1 sqlalchemy-2.0.41 sqlparse-0.5.3\n"
     ]
    }
   ],
   "source": [
    "!pip install pymysql ipython-sql"
   ]
  }
 ],
 "metadata": {
  "kernelspec": {
   "display_name": "3.11.5",
   "language": "python",
   "name": "python3"
  },
  "language_info": {
   "codemirror_mode": {
    "name": "ipython",
    "version": 3
   },
   "file_extension": ".py",
   "mimetype": "text/x-python",
   "name": "python",
   "nbconvert_exporter": "python",
   "pygments_lexer": "ipython3",
   "version": "3.11.5"
  }
 },
 "nbformat": 4,
 "nbformat_minor": 5
}
