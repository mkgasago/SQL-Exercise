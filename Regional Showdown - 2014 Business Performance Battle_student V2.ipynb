{
 "cells": [
  {
   "cell_type": "markdown",
   "id": "bf17eebd",
   "metadata": {},
   "source": [
    "<div align=\"right\" style=\" font-size: 80%; text-align: center; margin: 0 auto\">\n",
    "<img\n",
    " src=\"https://raw.githubusercontent.com/Explore-AI/Pictures/master/alx-courses/aice/assets/Content_page_banner_blue_dots.png\"\n",
    " alt=\"ALX Content Header\"\n",
    " class=\"full-width-image\"\n",
    "/>\n",
    "</div>"
   ]
  },
  {
   "cell_type": "markdown",
   "id": "592fa7cb",
   "metadata": {},
   "source": [
    "# **Regional Showdown: 2014 Business Performance Battle**\n",
    "\n",
    "## **Background**\n",
    "\n",
    "Superstore HQ's executive leadership is preparing for a strategic review of regional performance. As the company approaches the end of the fiscal year, key decisions must be made about future investments, regional support, and operational efficiency. However, the current performance data is fragmented across spreadsheets, and informal reporting has led to inconsistent interpretations of success across regions.\n",
    "To move forward with clarity and confidence, leadership requires an evidence-based performance report one that consolidates reliable metrics and provides objective comparisons between regions.\n"
   ]
  },
  {
   "cell_type": "markdown",
   "id": "922234dc",
   "metadata": {},
   "source": [
    "\n",
    "\n",
    "\n",
    "![Regional Managers Planning](https://raw.githubusercontent.com/DesmondMokhali/sql_assessment/main/manager_meeting.jpg)\n",
    "\n",
    "\n",
    "## **Problem**\n",
    "\n",
    "There is currently no standardized or centralized method to assess and compare regional performance. Without clear insights, the leadership team cannot make informed decisions about where to allocate resources or identify top-performing regions.\n",
    "As a **Data Analyst**, you have been formally tasked with producing a detailed analysis that addresses this gap. You must extract meaningful trends from the raw data, identify performance indicators, and deliver a structured set of insights. Your analysis will be the foundation for critical decision-making at the executive level.\n",
    "\n",
    "## **Learning objectives**\n",
    "This exercise is designed to simulate the responsibilities of a data analyst working in a business environment where data integrity, strategic reporting, and analytical precision are essential.\n",
    "\n",
    "You will learn how to:\n",
    "\n",
    "- Write production-ready SQL to answer real business questions.\n",
    "- Query and join tables effectively in notebooks.\n",
    "- Use aggregations and numeric functions to compute KPIs.\n",
    "- Build region-level summaries based on sales, profit, order volumes, and other performance indicators,\n",
    "- Translate raw transactional data into actionable insights for stakeholders.\n",
    "\n",
    "By the end of this project, you will have demonstrated how SQL can be used as a powerful tool to support strategic business decisions."
   ]
  },
  {
   "cell_type": "markdown",
   "id": "1221d7bf",
   "metadata": {},
   "source": [
    "### Data Description\n",
    "\n",
    "The Global Superstore dataset is a comprehensive dataset containing information about sales and orders in a global superstore. \n",
    "\n",
    "The `superstore.db` database contains **51,290 unique records** across **27 columns**. It captures detailed information on customer orders, sales performance, shipping logistics, and regional operations.\n",
    "\n",
    "The data model, including column names, data types, and feature descriptions, is documented here: [Superstore Data Dictionary](https://docs.google.com/document/d/1UhUyfFvQnZG2iDsy6LNNrTuezQ9wBtoAJI966IZNEpQ/edit?usp=sharing)\n",
    "\n",
    "\n",
    "**Table:** `superstore`\n",
    "\n",
    "**Key Columns:**\n",
    "- category  \n",
    "- city  \n",
    "- country  \n",
    "- customer_id  \n",
    "- customer_name  \n",
    "- discount  \n",
    "- market  \n",
    "- record_count\n",
    "- order_date  \n",
    "- order_id  \n",
    "- order_priority  \n",
    "- product_id  \n",
    "- product_name  \n",
    "- profit  \n",
    "- quantity  \n",
    "- region  \n",
    "- row_id  \n",
    "- sales  \n",
    "- segment  \n",
    "- ship_date  \n",
    "- ship_mode  \n",
    "- shipping_cost  \n",
    "- state  \n",
    "- sub_category  \n",
    "- year  \n",
    "- market2  \n",
    "- weeknum  \n",
    "\n",
    "> This dataset provides a rich foundation for exploring business performance across time, geography, and customer segments using SQL and data analysis techniques.\n",
    "\n"
   ]
  },
  {
   "cell_type": "markdown",
   "id": "06df0c01",
   "metadata": {},
   "source": [
    "### 1. Install the required libraries (if not yet installed)\n",
    "In a Jupyter notebook cell, run:"
   ]
  },
  {
   "cell_type": "code",
   "execution_count": 27,
   "id": "e1a41d7c",
   "metadata": {},
   "outputs": [],
   "source": [
    "# Install SQLAlchemy (if needed)\n",
    "# !pip install \"SQLAlchemy==1.4.46\" --quiet"
   ]
  },
  {
   "cell_type": "code",
   "execution_count": 28,
   "id": "403a016d",
   "metadata": {},
   "outputs": [],
   "source": [
    "# Import required libraries\n",
    "import pandas as pd\n",
    "import os\n",
    "from sqlalchemy import create_engine\n"
   ]
  },
  {
   "cell_type": "markdown",
   "id": "8ee39a5d",
   "metadata": {},
   "source": [
    "### 2. Load CSV and Set Up SQLite Database for SQL Queries in Jupyter"
   ]
  },
  {
   "cell_type": "code",
   "execution_count": null,
   "id": "a28cefdf",
   "metadata": {},
   "outputs": [
    {
     "name": "stdout",
     "output_type": "stream",
     "text": [
      "Index(['category', 'city', 'country', 'customer_id', 'customer_name',\n",
      "       'discount', 'market', 'record_count', 'order_date', 'order_id',\n",
      "       'order_priority', 'product_id', 'product_name', 'profit', 'quantity',\n",
      "       'region', 'row_id', 'sales', 'segment', 'ship_date', 'ship_mode',\n",
      "       'shipping_cost', 'state', 'sub_category', 'year', 'market2', 'weeknum'],\n",
      "      dtype='object')\n"
     ]
    }
   ],
   "source": [
    "# Define the CSV file name\n",
    "csv_filename = \"superstore.csv\"\n",
    "\n",
    "# Check if the CSV file exists in the current working directory; raise an error if not found\n",
    "if not os.path.exists(csv_filename):\n",
    "    raise FileNotFoundError(f\"File '{csv_filename}' not found in: {os.getcwd()}\")\n",
    "\n",
    "# Load the CSV into a DataFrame and clean the column names:\n",
    "# - Replace periods with underscores\n",
    "# - Remove leading/trailing whitespace\n",
    "# - Convert all column names to lowercase\n",
    "df = pd.read_csv(csv_filename)\n",
    "df.columns = df.columns.str.replace('.', '_', regex=False).str.strip().str.lower()\n",
    "\n",
    "# Rename non-English or special columns\n",
    "df.rename(columns={\"记录数\": \"record_count\"}, inplace=True)\n"
   ]
  },
  {
   "cell_type": "code",
   "execution_count": 30,
   "id": "1689b74b",
   "metadata": {},
   "outputs": [
    {
     "data": {
      "text/plain": [
       "51290"
      ]
     },
     "execution_count": 30,
     "metadata": {},
     "output_type": "execute_result"
    }
   ],
   "source": [
    "# Create SQLite database and save the table\n",
    "from sqlalchemy import create_engine\n",
    "\n",
    "engine = create_engine(\"sqlite:///superstore.db\", future=True)\n",
    "df.to_sql(\"superstore\", con=engine, index=False, if_exists=\"replace\")"
   ]
  },
  {
   "cell_type": "code",
   "execution_count": 31,
   "id": "2f673b9b",
   "metadata": {},
   "outputs": [],
   "source": [
    "# Load and connect SQL magic\n",
    "%reload_ext sql\n",
    "%sql sqlite:///superstore.db\n"
   ]
  },
  {
   "cell_type": "markdown",
   "id": "d40b98c9",
   "metadata": {},
   "source": [
    "### 3. Review the first 5 rows"
   ]
  },
  {
   "cell_type": "code",
   "execution_count": 32,
   "id": "5f3006ff",
   "metadata": {},
   "outputs": [
    {
     "name": "stdout",
     "output_type": "stream",
     "text": [
      " * sqlite:///superstore.db\n",
      "Done.\n"
     ]
    },
    {
     "data": {
      "text/html": [
       "<table>\n",
       "    <thead>\n",
       "        <tr>\n",
       "            <th>category</th>\n",
       "            <th>city</th>\n",
       "            <th>country</th>\n",
       "            <th>customer_id</th>\n",
       "            <th>customer_name</th>\n",
       "            <th>discount</th>\n",
       "            <th>market</th>\n",
       "            <th>record_count</th>\n",
       "            <th>order_date</th>\n",
       "            <th>order_id</th>\n",
       "            <th>order_priority</th>\n",
       "            <th>product_id</th>\n",
       "            <th>product_name</th>\n",
       "            <th>profit</th>\n",
       "            <th>quantity</th>\n",
       "            <th>region</th>\n",
       "            <th>row_id</th>\n",
       "            <th>sales</th>\n",
       "            <th>segment</th>\n",
       "            <th>ship_date</th>\n",
       "            <th>ship_mode</th>\n",
       "            <th>shipping_cost</th>\n",
       "            <th>state</th>\n",
       "            <th>sub_category</th>\n",
       "            <th>year</th>\n",
       "            <th>market2</th>\n",
       "            <th>weeknum</th>\n",
       "        </tr>\n",
       "    </thead>\n",
       "    <tbody>\n",
       "        <tr>\n",
       "            <td>Office Supplies</td>\n",
       "            <td>Los Angeles</td>\n",
       "            <td>United States</td>\n",
       "            <td>LS-172304</td>\n",
       "            <td>Lycoris Saunders</td>\n",
       "            <td>0.0</td>\n",
       "            <td>US</td>\n",
       "            <td>1</td>\n",
       "            <td>2011-01-07 00:00:00.000</td>\n",
       "            <td>CA-2011-130813</td>\n",
       "            <td>High</td>\n",
       "            <td>OFF-PA-10002005</td>\n",
       "            <td>Xerox 225</td>\n",
       "            <td>9.3312</td>\n",
       "            <td>3</td>\n",
       "            <td>West</td>\n",
       "            <td>36624</td>\n",
       "            <td>19</td>\n",
       "            <td>Consumer</td>\n",
       "            <td>2011-01-09 00:00:00.000</td>\n",
       "            <td>Second Class</td>\n",
       "            <td>4.37</td>\n",
       "            <td>California</td>\n",
       "            <td>Paper</td>\n",
       "            <td>2011</td>\n",
       "            <td>North America</td>\n",
       "            <td>2</td>\n",
       "        </tr>\n",
       "        <tr>\n",
       "            <td>Office Supplies</td>\n",
       "            <td>Los Angeles</td>\n",
       "            <td>United States</td>\n",
       "            <td>MV-174854</td>\n",
       "            <td>Mark Van Huff</td>\n",
       "            <td>0.0</td>\n",
       "            <td>US</td>\n",
       "            <td>1</td>\n",
       "            <td>2011-01-21 00:00:00.000</td>\n",
       "            <td>CA-2011-148614</td>\n",
       "            <td>Medium</td>\n",
       "            <td>OFF-PA-10002893</td>\n",
       "            <td>Wirebound Service Call Books, 5 1/2&quot; x 4&quot;</td>\n",
       "            <td>9.2928</td>\n",
       "            <td>2</td>\n",
       "            <td>West</td>\n",
       "            <td>37033</td>\n",
       "            <td>19</td>\n",
       "            <td>Consumer</td>\n",
       "            <td>2011-01-26 00:00:00.000</td>\n",
       "            <td>Standard Class</td>\n",
       "            <td>0.94</td>\n",
       "            <td>California</td>\n",
       "            <td>Paper</td>\n",
       "            <td>2011</td>\n",
       "            <td>North America</td>\n",
       "            <td>4</td>\n",
       "        </tr>\n",
       "        <tr>\n",
       "            <td>Office Supplies</td>\n",
       "            <td>Los Angeles</td>\n",
       "            <td>United States</td>\n",
       "            <td>CS-121304</td>\n",
       "            <td>Chad Sievert</td>\n",
       "            <td>0.0</td>\n",
       "            <td>US</td>\n",
       "            <td>1</td>\n",
       "            <td>2011-08-05 00:00:00.000</td>\n",
       "            <td>CA-2011-118962</td>\n",
       "            <td>Medium</td>\n",
       "            <td>OFF-PA-10000659</td>\n",
       "            <td>Adams Phone Message Book, Professional, 400 Message Capacity, 5 3/6” x 11”</td>\n",
       "            <td>9.8418</td>\n",
       "            <td>3</td>\n",
       "            <td>West</td>\n",
       "            <td>31468</td>\n",
       "            <td>21</td>\n",
       "            <td>Consumer</td>\n",
       "            <td>2011-08-09 00:00:00.000</td>\n",
       "            <td>Standard Class</td>\n",
       "            <td>1.81</td>\n",
       "            <td>California</td>\n",
       "            <td>Paper</td>\n",
       "            <td>2011</td>\n",
       "            <td>North America</td>\n",
       "            <td>32</td>\n",
       "        </tr>\n",
       "        <tr>\n",
       "            <td>Office Supplies</td>\n",
       "            <td>Los Angeles</td>\n",
       "            <td>United States</td>\n",
       "            <td>CS-121304</td>\n",
       "            <td>Chad Sievert</td>\n",
       "            <td>0.0</td>\n",
       "            <td>US</td>\n",
       "            <td>1</td>\n",
       "            <td>2011-08-05 00:00:00.000</td>\n",
       "            <td>CA-2011-118962</td>\n",
       "            <td>Medium</td>\n",
       "            <td>OFF-PA-10001144</td>\n",
       "            <td>Xerox 1913</td>\n",
       "            <td>53.2608</td>\n",
       "            <td>2</td>\n",
       "            <td>West</td>\n",
       "            <td>31469</td>\n",
       "            <td>111</td>\n",
       "            <td>Consumer</td>\n",
       "            <td>2011-08-09 00:00:00.000</td>\n",
       "            <td>Standard Class</td>\n",
       "            <td>4.59</td>\n",
       "            <td>California</td>\n",
       "            <td>Paper</td>\n",
       "            <td>2011</td>\n",
       "            <td>North America</td>\n",
       "            <td>32</td>\n",
       "        </tr>\n",
       "        <tr>\n",
       "            <td>Office Supplies</td>\n",
       "            <td>Los Angeles</td>\n",
       "            <td>United States</td>\n",
       "            <td>AP-109154</td>\n",
       "            <td>Arthur Prichep</td>\n",
       "            <td>0.0</td>\n",
       "            <td>US</td>\n",
       "            <td>1</td>\n",
       "            <td>2011-09-29 00:00:00.000</td>\n",
       "            <td>CA-2011-146969</td>\n",
       "            <td>High</td>\n",
       "            <td>OFF-PA-10002105</td>\n",
       "            <td>Xerox 223</td>\n",
       "            <td>3.1104</td>\n",
       "            <td>1</td>\n",
       "            <td>West</td>\n",
       "            <td>32440</td>\n",
       "            <td>6</td>\n",
       "            <td>Consumer</td>\n",
       "            <td>2011-10-03 00:00:00.000</td>\n",
       "            <td>Standard Class</td>\n",
       "            <td>1.32</td>\n",
       "            <td>California</td>\n",
       "            <td>Paper</td>\n",
       "            <td>2011</td>\n",
       "            <td>North America</td>\n",
       "            <td>40</td>\n",
       "        </tr>\n",
       "    </tbody>\n",
       "</table>"
      ],
      "text/plain": [
       "[('Office Supplies', 'Los Angeles', 'United States', 'LS-172304', 'Lycoris Saunders', 0.0, 'US', 1, '2011-01-07 00:00:00.000', 'CA-2011-130813', 'High', 'OFF-PA-10002005', 'Xerox 225', 9.3312, 3, 'West', 36624, 19, 'Consumer', '2011-01-09 00:00:00.000', 'Second Class', 4.37, 'California', 'Paper', 2011, 'North America', 2),\n",
       " ('Office Supplies', 'Los Angeles', 'United States', 'MV-174854', 'Mark Van Huff', 0.0, 'US', 1, '2011-01-21 00:00:00.000', 'CA-2011-148614', 'Medium', 'OFF-PA-10002893', 'Wirebound Service Call Books, 5 1/2\" x 4\"', 9.2928, 2, 'West', 37033, 19, 'Consumer', '2011-01-26 00:00:00.000', 'Standard Class', 0.94, 'California', 'Paper', 2011, 'North America', 4),\n",
       " ('Office Supplies', 'Los Angeles', 'United States', 'CS-121304', 'Chad Sievert', 0.0, 'US', 1, '2011-08-05 00:00:00.000', 'CA-2011-118962', 'Medium', 'OFF-PA-10000659', 'Adams Phone Message Book, Professional, 400 Message Capacity, 5 3/6” x 11”', 9.8418, 3, 'West', 31468, 21, 'Consumer', '2011-08-09 00:00:00.000', 'Standard Class', 1.81, 'California', 'Paper', 2011, 'North America', 32),\n",
       " ('Office Supplies', 'Los Angeles', 'United States', 'CS-121304', 'Chad Sievert', 0.0, 'US', 1, '2011-08-05 00:00:00.000', 'CA-2011-118962', 'Medium', 'OFF-PA-10001144', 'Xerox 1913', 53.2608, 2, 'West', 31469, 111, 'Consumer', '2011-08-09 00:00:00.000', 'Standard Class', 4.59, 'California', 'Paper', 2011, 'North America', 32),\n",
       " ('Office Supplies', 'Los Angeles', 'United States', 'AP-109154', 'Arthur Prichep', 0.0, 'US', 1, '2011-09-29 00:00:00.000', 'CA-2011-146969', 'High', 'OFF-PA-10002105', 'Xerox 223', 3.1104, 1, 'West', 32440, 6, 'Consumer', '2011-10-03 00:00:00.000', 'Standard Class', 1.32, 'California', 'Paper', 2011, 'North America', 40)]"
      ]
     },
     "execution_count": 32,
     "metadata": {},
     "output_type": "execute_result"
    }
   ],
   "source": [
    "%%sql\n",
    "SELECT * FROM superstore LIMIT 5;"
   ]
  },
  {
   "cell_type": "markdown",
   "id": "a3116bab",
   "metadata": {},
   "source": [
    "# Integrated project notebook"
   ]
  },
  {
   "cell_type": "markdown",
   "id": "677e0854",
   "metadata": {},
   "source": [
    "## 1. SQL in Production "
   ]
  },
  {
   "cell_type": "markdown",
   "id": "26af890c",
   "metadata": {},
   "source": [
    "### **Task 1.** \n",
    "### Which region generated the highest total sales in year 2014?"
   ]
  },
  {
   "cell_type": "code",
   "execution_count": 33,
   "id": "af6dbf0b",
   "metadata": {},
   "outputs": [
    {
     "name": "stdout",
     "output_type": "stream",
     "text": [
      " * sqlite:///superstore.db\n",
      "(sqlite3.OperationalError) unrecognized token: \"#\"\n",
      "[SQL: # Add your code here]\n",
      "(Background on this error at: https://sqlalche.me/e/20/e3q8)\n"
     ]
    }
   ],
   "source": [
    "%%sql\n",
    "\n",
    "# Add your code here\n"
   ]
  },
  {
   "cell_type": "markdown",
   "id": "2ac67439",
   "metadata": {},
   "source": [
    "**Expected Output (Top 4 Regions by Total Sales in 2014):**\n",
    " | Region  | Total_Sales |\n",
    " |---------|-------------|\n",
    " | West    | 725,457.33  |\n",
    " | South   | 501,380.33  |\n",
    " | East    | 491,390.11  |\n",
    " | Central | 451,140.65  |\n"
   ]
  },
  {
   "cell_type": "markdown",
   "id": "3259ef42",
   "metadata": {},
   "source": [
    "### **Task 2.**\n",
    "\n",
    "### What is the average order quantity by region for the past quarter (Q4 2014)?"
   ]
  },
  {
   "cell_type": "code",
   "execution_count": 34,
   "id": "af117a57",
   "metadata": {},
   "outputs": [
    {
     "name": "stdout",
     "output_type": "stream",
     "text": [
      " * sqlite:///superstore.db\n",
      "(sqlite3.OperationalError) unrecognized token: \"#\"\n",
      "[SQL: # Add your code here]\n",
      "(Background on this error at: https://sqlalche.me/e/20/e3q8)\n"
     ]
    }
   ],
   "source": [
    "%%sql\n",
    "\n",
    "# Add your code here\n"
   ]
  },
  {
   "cell_type": "markdown",
   "id": "9ad3ffe6",
   "metadata": {},
   "source": [
    "<!-- Note -->\n",
    "<div style=\"background-color:#f5f5f5; border-left:5px solid rgb(180, 180, 180); padding:10px; border-radius:4px;\">\n",
    "  <strong>Hold on...</strong> Sales alone don’t tell the full story. What if a region makes fewer sales but has better margins?\n",
    "</div>"
   ]
  },
  {
   "cell_type": "markdown",
   "id": "2d230d14",
   "metadata": {
    "tags": []
   },
   "source": [
    "### **Task 3.**\n",
    "### If one region consistently has lower sales but higher profit margins, how might that affect decisions about future investments in that region?"
   ]
  },
  {
   "cell_type": "markdown",
   "id": "bf6b1235",
   "metadata": {},
   "source": []
  },
  {
   "cell_type": "markdown",
   "id": "1d59d107",
   "metadata": {},
   "source": [
    "## 2. Querying in Notebooks"
   ]
  },
  {
   "cell_type": "markdown",
   "id": "ab0c1bc5",
   "metadata": {},
   "source": [
    "### **Task 4.** \n",
    "### List the top 3 Region by number of orders placed.\n"
   ]
  },
  {
   "cell_type": "code",
   "execution_count": 35,
   "id": "1ae81f1f",
   "metadata": {},
   "outputs": [
    {
     "name": "stdout",
     "output_type": "stream",
     "text": [
      " * sqlite:///superstore.db\n",
      "(sqlite3.OperationalError) unrecognized token: \"#\"\n",
      "[SQL: # Add your code here]\n",
      "(Background on this error at: https://sqlalche.me/e/20/e3q8)\n"
     ]
    }
   ],
   "source": [
    "%%sql\n",
    "\n",
    "# Add your code here"
   ]
  },
  {
   "cell_type": "markdown",
   "id": "5a0b7683",
   "metadata": {
    "tags": []
   },
   "source": [
    "\n",
    "### **Task 5.**\n",
    "### Which product category have the least contribution to overall profit?"
   ]
  },
  {
   "cell_type": "code",
   "execution_count": 36,
   "id": "860600a1",
   "metadata": {},
   "outputs": [
    {
     "name": "stdout",
     "output_type": "stream",
     "text": [
      " * sqlite:///superstore.db\n",
      "(sqlite3.OperationalError) unrecognized token: \"#\"\n",
      "[SQL: # Add your code here]\n",
      "(Background on this error at: https://sqlalche.me/e/20/e3q8)\n"
     ]
    }
   ],
   "source": [
    "%%sql\n",
    "\n",
    "# Add your code here\n"
   ]
  },
  {
   "cell_type": "markdown",
   "id": "3a76ef60",
   "metadata": {},
   "source": [
    "**Expected Output (Total Profit by Category):**\n",
    " | Category         | Total_Profit |\n",
    " |------------------|--------------|\n",
    " | Technology       | 446,519.46   |\n",
    " | Office Supplies  | 122,490.90   |\n",
    " | Furniture        | 86,154.89    |\n",
    "\n"
   ]
  },
  {
   "cell_type": "markdown",
   "id": "d431192e",
   "metadata": {},
   "source": [
    "<!-- Note -->\n",
    "<div style=\"background-color:#f5f5f5; border-left:5px solid rgb(180, 180, 180); padding:10px; border-radius:4px;\">\n",
    "  <strong>Hmm... </strong> Some categories might be profitable, but are those profits sustainable?  \n",
    "What if many customers are returning those products due to dissatisfaction or mismatch?  \n",
    "Even if return data isn't available, it's important to consider how returns could impact long-term profitability and reputation.\n",
    "</div>"
   ]
  },
  {
   "cell_type": "markdown",
   "id": "cec9adb1",
   "metadata": {},
   "source": [
    "### **Task 6.** \n",
    "### Based on your findings, suggest one strategy to improve performance in the lowest-performing region."
   ]
  },
  {
   "cell_type": "markdown",
   "id": "e94dd973",
   "metadata": {},
   "source": []
  },
  {
   "cell_type": "markdown",
   "id": "a9ce90ac",
   "metadata": {},
   "source": [
    "## 3. Numeric Functions & Aggregations"
   ]
  },
  {
   "cell_type": "markdown",
   "id": "59f8163e",
   "metadata": {},
   "source": [
    "### **Task 7.**\n",
    "### Calculate the average delivery delay per region (Order Date vs Ship Date)."
   ]
  },
  {
   "cell_type": "code",
   "execution_count": 37,
   "id": "6d4c8583",
   "metadata": {},
   "outputs": [
    {
     "name": "stdout",
     "output_type": "stream",
     "text": [
      " * sqlite:///superstore.db\n",
      "(sqlite3.OperationalError) unrecognized token: \"#\"\n",
      "[SQL: # Add your code here]\n",
      "(Background on this error at: https://sqlalche.me/e/20/e3q8)\n"
     ]
    }
   ],
   "source": [
    "%%sql\n",
    "\n",
    "# Add your code here\n"
   ]
  },
  {
   "cell_type": "markdown",
   "id": "a3240955",
   "metadata": {},
   "source": [
    "### **Task 8.** \n",
    "### Which customer segment yields the highest average order value?"
   ]
  },
  {
   "cell_type": "code",
   "execution_count": 38,
   "id": "6f490765",
   "metadata": {},
   "outputs": [
    {
     "name": "stdout",
     "output_type": "stream",
     "text": [
      " * sqlite:///superstore.db\n",
      "(sqlite3.OperationalError) unrecognized token: \"#\"\n",
      "[SQL: # Add your code here]\n",
      "(Background on this error at: https://sqlalche.me/e/20/e3q8)\n"
     ]
    }
   ],
   "source": [
    "%%sql\n",
    "\n",
    "# Add your code here"
   ]
  },
  {
   "cell_type": "markdown",
   "id": "cd2d0db3",
   "metadata": {},
   "source": [
    "<!-- Note -->\n",
    "<div style=\"background-color:#f5f5f5; border-left:5px solid rgb(180, 180, 180); padding:10px; border-radius:4px;\">\n",
    "  <strong>Efficiency and value matter.</strong> While understanding delivery delays helps reveal operational efficiency by region, analyzing customer segments shows where the most valuable orders come from.  \n",
    "  Even if two regions achieve similar sales, differences in delivery performance and customer mix can lead to very different costs and profitability.\n",
    "</div>\n"
   ]
  },
  {
   "cell_type": "markdown",
   "id": "94f428a0",
   "metadata": {},
   "source": [
    "### **Task 9.**\n",
    "### Two regions have similar total sales, but one region has significantly higher shipping costs. What factors could explain this difference, and how might you address it as a regional manager?"
   ]
  },
  {
   "cell_type": "markdown",
   "id": "ad49bd2d",
   "metadata": {},
   "source": []
  },
  {
   "cell_type": "markdown",
   "id": "730a472d",
   "metadata": {},
   "source": [
    "## 4. Window Functions"
   ]
  },
  {
   "cell_type": "markdown",
   "id": "9eb58eae",
   "metadata": {},
   "source": [
    "### **Task 10.**\n",
    "### Rank customers within each region by total sales and find the top customer per region."
   ]
  },
  {
   "cell_type": "code",
   "execution_count": 39,
   "id": "84d894e7",
   "metadata": {},
   "outputs": [
    {
     "name": "stdout",
     "output_type": "stream",
     "text": [
      " * sqlite:///superstore.db\n",
      "(sqlite3.OperationalError) unrecognized token: \"#\"\n",
      "[SQL: # Add your code here]\n",
      "(Background on this error at: https://sqlalche.me/e/20/e3q8)\n"
     ]
    }
   ],
   "source": [
    "%%sql\n",
    "\n",
    "# Add your code here"
   ]
  },
  {
   "cell_type": "markdown",
   "id": "5e245a5f",
   "metadata": {},
   "source": [
    "**Expected Output (Top Customer by Total Sales in Each Region):**\n",
    "| Region  | Customer_Name   | Total_Sales |\n",
    "|---------|------------------|-------------|\n",
    "| Central | Tamara Chand     | 25,601.01   |\n",
    "| East    | Sean Miller      | 26,568.45   |\n",
    "| West    | Raymond Buch     | 27,965.22   |\n",
    "| South   | Tom Ashbrook     | 23,702.79   |\n",
    "\n",
    "\n"
   ]
  },
  {
   "cell_type": "markdown",
   "id": "4a15a7b2",
   "metadata": {},
   "source": [
    "### **Task 11.**\n",
    "### Show the year-over-year sales growth per region."
   ]
  },
  {
   "cell_type": "markdown",
   "id": "d0ee35b7",
   "metadata": {},
   "source": [
    "> 💡 This task requires joining multiple tables. If you haven’t learned joins yet, use this example as a guide:"
   ]
  },
  {
   "cell_type": "markdown",
   "id": "5fdf7259",
   "metadata": {},
   "source": [
    "**Objective:**  \n",
    "Calculate the year-over-year (YoY) sales growth percentage for each region.\n",
    "\n",
    "\n",
    "**Instructions:**\n",
    "\n",
    "1. Aggregate total sales per region and year by grouping on `region` and extracting the year from `order_date`.  \n",
    "2. Join each year’s total sales with the previous year’s total sales for the same region.  \n",
    "3. Calculate the YoY growth percentage using the formula:  \n",
    "   - If there is no previous year’s sales data, set the growth to 0%.  \n",
    "4. Display columns:  \n",
    "   - `region`  \n",
    "   - `year`  \n",
    "   - `total_sales` (current year)  \n",
    "   - `prev_year_sales` (previous year)  \n",
    "   - `yoy_growth_percent`  \n",
    "5. Order the results by `region` and `year` in ascending order."
   ]
  },
  {
   "cell_type": "code",
   "execution_count": 40,
   "id": "5999c23f",
   "metadata": {},
   "outputs": [
    {
     "name": "stdout",
     "output_type": "stream",
     "text": [
      " * sqlite:///superstore.db\n",
      "(sqlite3.OperationalError) unrecognized token: \"#\"\n",
      "[SQL: WITH YearlySales AS (\n",
      "  SELECT \n",
      "    Region,\n",
      "    strftime('%Y', \"Order.Date\") AS Year,\n",
      "    SUM(Sales) AS Total_Sales\n",
      "  # Add code here\n",
      ")\n",
      "\n",
      "SELECT \n",
      "  cur.Region,\n",
      "  cur.Year AS Current_Year,\n",
      "  cur.Total_Sales AS Current_Year_Sales,\n",
      "  prev.Total_Sales AS Previous_Year_Sales,\n",
      "  ROUND(\n",
      "    CASE \n",
      "      WHEN prev.Total_Sales IS NULL OR prev.Total_Sales = 0 THEN NULL\n",
      "      ELSE ((cur.Total_Sales - prev.Total_Sales) * 100.0 / prev.Total_Sales)\n",
      "    END, 2\n",
      "  ) AS YoY_Growth_Percent\n",
      "# Add your code here\n",
      "LEFT JOIN YearlySales prev\n",
      "  ON cur.Region = prev.Region\n",
      "  AND CAST(cur.Year AS INTEGER) = CAST(prev.Year AS INTEGER) + 1\n",
      "# Add your code here ;]\n",
      "(Background on this error at: https://sqlalche.me/e/20/e3q8)\n"
     ]
    }
   ],
   "source": [
    "%%sql\n",
    "WITH YearlySales AS (\n",
    "  SELECT \n",
    "    Region,\n",
    "    strftime('%Y', \"Order.Date\") AS Year,\n",
    "    SUM(Sales) AS Total_Sales\n",
    "  # Add code here\n",
    ")\n",
    "\n",
    "SELECT \n",
    "  cur.Region,\n",
    "  cur.Year AS Current_Year,\n",
    "  cur.Total_Sales AS Current_Year_Sales,\n",
    "  prev.Total_Sales AS Previous_Year_Sales,\n",
    "  ROUND(\n",
    "    CASE \n",
    "      WHEN prev.Total_Sales IS NULL OR prev.Total_Sales = 0 THEN NULL\n",
    "      ELSE ((cur.Total_Sales - prev.Total_Sales) * 100.0 / prev.Total_Sales)\n",
    "    END, 2\n",
    "  ) AS YoY_Growth_Percent\n",
    "# Add your code here\n",
    "LEFT JOIN YearlySales prev\n",
    "  ON cur.Region = prev.Region\n",
    "  AND CAST(cur.Year AS INTEGER) = CAST(prev.Year AS INTEGER) + 1\n",
    "# Add your code here ;\n",
    "\n"
   ]
  },
  {
   "cell_type": "markdown",
   "id": "1273fcc4",
   "metadata": {},
   "source": [
    "**Expected Output (Sample YoY Sales Growth by Region):**\n",
    "| Region  | Year | Total_Sales | Prev_Year_Sales | YoY_Growth_% |\n",
    "|---------|------|-------------|------------------|--------------|\n",
    "| Central | 2014 | 451,140.65  | 437,942.22       | 3.02%        |\n",
    "| West    | 2014 | 725,457.33  | 635,890.14       | 14.09%       |\n",
    "| South   | 2014 | 501,380.33  | 479,950.20       | 4.46%        |\n",
    "| Caribbean | 2014 | 36,580.10 | 44,221.14        | -17.30%      |\n",
    "\n"
   ]
  },
  {
   "cell_type": "markdown",
   "id": "e2f278ed",
   "metadata": {},
   "source": [
    "**Note:**  \n",
    "- We used the `STRFTIME('%Y', order_date)` function to extract the year.\n",
    "\n",
    "- A Common Table Expression (CTE) was used to compute yearly sales first.\n",
    "\n",
    "- A `LEFT JOIN` was used to combine current and previous year sales for each region.\n",
    "\n",
    "- The `ROUND()` function helped clean up percentage results for readability.\n",
    "\n",
    "- We included a conditional check to avoid division by zero or NULL when previous year sales were missing.\n",
    "\n",
    "- Results are ordered by `region` and `year` to clearly show trends over time."
   ]
  },
  {
   "cell_type": "markdown",
   "id": "0f8dc43a",
   "metadata": {},
   "source": [
    "<!-- Note -->\n",
    "<div style=\"background-color:#f5f5f5; border-left:5px solid rgb(180, 180, 180); padding:10px; border-radius:4px;\">\n",
    "  <strong>Trends tell a story.</strong> Ranking customers by sales highlights key contributors in each region, while year-over-year sales growth reveals how regions perform over time.  \n",
    "  Sudden changes, like a sharp growth in Q3 followed by a decline in Q4, could signal potential issues affecting future performance.\n",
    "</div>\n"
   ]
  },
  {
   "cell_type": "markdown",
   "id": "f1c2890f",
   "metadata": {},
   "source": [
    "### **Task 12.**\n",
    "### If a region experienced strong sales growth in Q3 but saw a decline in Q4, how should this pattern affect their ranking on the final leaderboard? What factors would you consider in your evaluation?"
   ]
  },
  {
   "cell_type": "markdown",
   "id": "bf1417ad",
   "metadata": {},
   "source": []
  },
  {
   "cell_type": "markdown",
   "id": "f37f1fbc",
   "metadata": {},
   "source": [
    "<!-- Note -->\n",
    "<div style=\"background-color:#f5f5f5; border-left:5px solid rgb(180, 180, 180); padding:10px; border-radius:4px;\">\n",
    "  <strong>Loyalty check! </strong> Let's find out which region's customers keep coming back for more.\n",
    "Repeat business might just be the secret weapon of the winning region.\n",
    "</div>"
   ]
  },
  {
   "cell_type": "markdown",
   "id": "e400baad",
   "metadata": {},
   "source": [
    "### **Task 13.** \n",
    "### Which region has the highest number of repeat customers (customers who ordered more than once)"
   ]
  },
  {
   "cell_type": "code",
   "execution_count": 41,
   "id": "711bbacd",
   "metadata": {},
   "outputs": [
    {
     "name": "stdout",
     "output_type": "stream",
     "text": [
      " * sqlite:///superstore.db\n",
      "(sqlite3.OperationalError) unrecognized token: \"#\"\n",
      "[SQL: # Add your code here]\n",
      "(Background on this error at: https://sqlalche.me/e/20/e3q8)\n"
     ]
    }
   ],
   "source": [
    "%%sql\n",
    "\n",
    " \n",
    "# Add your code here\n"
   ]
  },
  {
   "cell_type": "markdown",
   "id": "d1fc805f",
   "metadata": {},
   "source": [
    "<!-- Note -->\n",
    "<div style=\"background-color:#f5f5f5; border-left:5px solid rgb(180, 180, 180); padding:10px; border-radius:4px;\">\n",
    "  <strong>And now… the moment of truth.</strong> You’ve uncovered key insights by analyzing repeat customers and other metrics.  \n",
    "  It’s time to combine Sales, Profit, Delivery, and Loyalty into one overall score for each region.  \n",
    "  Who will be crowned the Ultimate Regional Manager of the year?\n",
    "</div>\n"
   ]
  },
  {
   "cell_type": "markdown",
   "id": "d313dac8",
   "metadata": {},
   "source": [
    "### **Task 14**"
   ]
  },
  {
   "cell_type": "markdown",
   "id": "c1813bcc",
   "metadata": {},
   "source": [
    "![Regional Winner Celebration](https://raw.githubusercontent.com/DesmondMokhali/sql_assessment/main/regional_winner.jpg)\n"
   ]
  },
  {
   "cell_type": "markdown",
   "id": "61428fa6",
   "metadata": {},
   "source": [
    "### \n",
    "1. Use `RANK()` or `ROW_NUMBER()` to rank products by profit in each region.\n",
    "2. Filter to get the top-ranked product per region.\n",
    "3. Bonus: Calculate cumulative sales over time using `SUM(...) OVER (PARTITION BY ...)`.? "
   ]
  },
  {
   "cell_type": "code",
   "execution_count": 42,
   "id": "3fa3bb9b",
   "metadata": {},
   "outputs": [
    {
     "name": "stdout",
     "output_type": "stream",
     "text": [
      " * sqlite:///superstore.db\n",
      "(sqlite3.OperationalError) unrecognized token: \"#\"\n",
      "[SQL: WITH SalesProfit AS (\n",
      "    SELECT \n",
      "        Region,\n",
      "        ROUND(SUM(Sales), 2) AS Total_Sales,\n",
      "        ROUND(SUM(Profit), 2) AS Total_Profit,\n",
      "        ROUND(AVG(Quantity), 2) AS Avg_Quantity,\n",
      "        ROUND(AVG(julianday(\"Ship.Date\") - julianday(\"Order.Date\")), 2) AS Avg_Delivery_Delay,\n",
      "        ROUND(SUM(\"Shipping.Cost\"), 2) AS Total_Shipping_Cost\n",
      "    # Add your code here\n",
      "),\n",
      "RankedRegions AS (\n",
      "    SELECT *,\n",
      "        RANK() OVER (ORDER BY Total_Sales DESC) AS Sales_Rank,\n",
      "        RANK() OVER (ORDER BY Total_Profit DESC) AS Profit_Rank,\n",
      "        RANK() OVER (ORDER BY Avg_Delivery_Delay ASC) AS Delivery_Rank,\n",
      "        RANK() OVER (ORDER BY Total_Shipping_Cost ASC) AS Shipping_Rank\n",
      "    FROM SalesProfit\n",
      "),\n",
      "Final AS (\n",
      "    SELECT *,\n",
      "        (Sales_Rank + Profit_Rank + Delivery_Rank + Shipping_Rank) AS Overall_Rank_Score\n",
      "    FROM RankedRegions\n",
      ")\n",
      "# Add your code here\n",
      ";]\n",
      "(Background on this error at: https://sqlalche.me/e/20/e3q8)\n"
     ]
    }
   ],
   "source": [
    "%%sql\n",
    "WITH SalesProfit AS (\n",
    "    SELECT \n",
    "        Region,\n",
    "        ROUND(SUM(Sales), 2) AS Total_Sales,\n",
    "        ROUND(SUM(Profit), 2) AS Total_Profit,\n",
    "        ROUND(AVG(Quantity), 2) AS Avg_Quantity,\n",
    "        ROUND(AVG(julianday(\"Ship.Date\") - julianday(\"Order.Date\")), 2) AS Avg_Delivery_Delay,\n",
    "        ROUND(SUM(\"Shipping.Cost\"), 2) AS Total_Shipping_Cost\n",
    "    # Add your code here\n",
    "),\n",
    "RankedRegions AS (\n",
    "    SELECT *,\n",
    "        RANK() OVER (ORDER BY Total_Sales DESC) AS Sales_Rank,\n",
    "        RANK() OVER (ORDER BY Total_Profit DESC) AS Profit_Rank,\n",
    "        RANK() OVER (ORDER BY Avg_Delivery_Delay ASC) AS Delivery_Rank,\n",
    "        RANK() OVER (ORDER BY Total_Shipping_Cost ASC) AS Shipping_Rank\n",
    "    FROM SalesProfit\n",
    "),\n",
    "Final AS (\n",
    "    SELECT *,\n",
    "        (Sales_Rank + Profit_Rank + Delivery_Rank + Shipping_Rank) AS Overall_Rank_Score\n",
    "    FROM RankedRegions\n",
    ")\n",
    "# Add your code here\n",
    ";\n"
   ]
  },
  {
   "cell_type": "markdown",
   "id": "7532bdc5",
   "metadata": {},
   "source": [
    " **Expected Output (Simplified):**\n",
    "| Region      | Total_Sales | Total_Profit | Avg_Delay | Shipping_Cost | Rank_Score |\n",
    "|-------------|-------------|--------------|-----------|----------------|------------|\n",
    "| West        | 725K        | 210K         | 2.6 days  | 35K            | 6          |\n",
    "| Central     | 451K        | 148K         | 3.5 days  | 33K            | 10         |\n",
    "| Caribbean   | 36K         | 4K           | 5.5 days  | 11K            | 20         |\n",
    "\n",
    "🏅 Lowest total score = best region.\n",
    "\n"
   ]
  },
  {
   "cell_type": "markdown",
   "id": "0595871a",
   "metadata": {},
   "source": [
    "### **Task 15**"
   ]
  },
  {
   "cell_type": "markdown",
   "id": "c21d7340",
   "metadata": {},
   "source": [
    "In our current ranking, we treated all performance factors equally:  \n",
    "- **Total Sales**  \n",
    "- **Total Profit**  \n",
    "- **Average Delivery Delay**  \n",
    "- **Total Shipping Cost**  \n",
    "\n",
    "Each rank was summed to create an overall score, where a **lower score indicates better performance**.\n",
    "\n",
    "But what if we had **used a weighted scoring matrix** — assigning importance (weights) to each metric?"
   ]
  },
  {
   "cell_type": "markdown",
   "id": "2da58856",
   "metadata": {},
   "source": [
    "![Regional Manager Score Matrix](https://raw.githubusercontent.com/DesmondMokhali/sql_assessment/main/Regional_Manager_Score_Matrix.png)"
   ]
  },
  {
   "cell_type": "markdown",
   "id": "709a4d63",
   "metadata": {},
   "source": [
    "\n",
    "> This matrix is for *illustration only*. You do **not** need to calculate weighted scores unless instructed.  \n",
    "> If you'd like to try, apply weights to metrics like this:  \n",
    "> `weighted_score = (0.3 * profit) + (0.7 * sales)`\n"
   ]
  },
  {
   "cell_type": "markdown",
   "id": "646b86c8",
   "metadata": {},
   "source": [
    "\n",
    "\n",
    "### Would the Winner Still Be the Same?"
   ]
  },
  {
   "cell_type": "markdown",
   "id": "24f417c4",
   "metadata": {},
   "source": []
  },
  {
   "cell_type": "markdown",
   "id": "c3a8ea82",
   "metadata": {},
   "source": [
    "## 📋 Knowledge Check\n",
    "\n",
    "Once you've completed your analysis, test your understanding by taking this short multiple-choice quiz:\n",
    "\n",
    "[👉 Take the MCQ Quiz](https://docs.google.com/forms/d/e/1FAIpQLSdnRmZyzSrfFsnn_Ije93_47mjYxWFI_qyTsNGo4U91kGxcpA/viewform?usp=sharing&ouid=107591265593905105837)"
   ]
  },
  {
   "cell_type": "markdown",
   "id": "80cd8974",
   "metadata": {},
   "source": [
    "\n",
    "## 🏆 Congratulations!\n",
    "\n",
    "You've worked through all critical SQL concepts in a real business scenario. Not only have you sharpened your SQL skills, but you’ve also learned how to:\n",
    "\n",
    "- Drive business decisions with data\n",
    "- Use notebook-based SQL workflows\n",
    "- Analyze performance across multiple KPIs\n"
   ]
  },
  {
   "cell_type": "markdown",
   "id": "26fd094b-0fee-46f1-a4b8-73766813c42b",
   "metadata": {
    "tags": []
   },
   "source": [
    "#  \n",
    "\n",
    "<div align=\"center\" style=\" font-size: 80%; text-align: center; margin: 0 auto\">\n",
    "<img src=\"https://raw.githubusercontent.com/Explore-AI/Pictures/refs/heads/master/ALX_banners/ALX_Navy.png\"  style=\"width:100px\"  ;/>\n",
    "</div>"
   ]
  }
 ],
 "metadata": {
  "kernelspec": {
   "display_name": "3.11.5",
   "language": "python",
   "name": "python3"
  },
  "language_info": {
   "codemirror_mode": {
    "name": "ipython",
    "version": 3
   },
   "file_extension": ".py",
   "mimetype": "text/x-python",
   "name": "python",
   "nbconvert_exporter": "python",
   "pygments_lexer": "ipython3",
   "version": "3.11.5"
  }
 },
 "nbformat": 4,
 "nbformat_minor": 5
}
